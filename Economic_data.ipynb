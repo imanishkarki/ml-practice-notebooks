{
 "cells": [
  {
   "cell_type": "markdown",
   "id": "9ca2f7c7-1c28-4e5f-b501-245d62408840",
   "metadata": {
    "tags": []
   },
   "source": [
    "### Economic Data Analysis with Fred & Pandas"
   ]
  },
  {
   "cell_type": "code",
   "execution_count": 7,
   "id": "6a26654a-5fa2-47f4-9283-71b95cc8e55d",
   "metadata": {
    "tags": []
   },
   "outputs": [
    {
     "name": "stdout",
     "output_type": "stream",
     "text": [
      "Requirement already satisfied: fredapi in e:\\mkkk\\anaconda\\lib\\site-packages (0.5.1)\n",
      "Requirement already satisfied: pandas in e:\\mkkk\\anaconda\\lib\\site-packages (from fredapi) (1.5.3)\n",
      "Requirement already satisfied: python-dateutil>=2.8.1 in e:\\mkkk\\anaconda\\lib\\site-packages (from pandas->fredapi) (2.8.2)\n",
      "Requirement already satisfied: pytz>=2020.1 in e:\\mkkk\\anaconda\\lib\\site-packages (from pandas->fredapi) (2022.7)\n",
      "Requirement already satisfied: numpy>=1.21.0 in e:\\mkkk\\anaconda\\lib\\site-packages (from pandas->fredapi) (1.24.3)\n",
      "Requirement already satisfied: six>=1.5 in e:\\mkkk\\anaconda\\lib\\site-packages (from python-dateutil>=2.8.1->pandas->fredapi) (1.16.0)\n"
     ]
    }
   ],
   "source": [
    "!pip install fredapi"
   ]
  },
  {
   "cell_type": "code",
   "execution_count": 8,
   "id": "e1f3cd79-a7cb-445b-ac72-68e9f113e40c",
   "metadata": {
    "tags": []
   },
   "outputs": [
    {
     "ename": "OptionError",
     "evalue": "Pattern matched multiple keys",
     "output_type": "error",
     "traceback": [
      "\u001b[1;31m---------------------------------------------------------------------------\u001b[0m",
      "\u001b[1;31mOptionError\u001b[0m                               Traceback (most recent call last)",
      "Cell \u001b[1;32mIn[8], line 7\u001b[0m\n\u001b[0;32m      4\u001b[0m \u001b[38;5;28;01mimport\u001b[39;00m \u001b[38;5;21;01mplotly\u001b[39;00m \u001b[38;5;28;01mas\u001b[39;00m \u001b[38;5;21;01mpx\u001b[39;00m\n\u001b[0;32m      6\u001b[0m plt\u001b[38;5;241m.\u001b[39mstyle\u001b[38;5;241m.\u001b[39muse(\u001b[38;5;124m'\u001b[39m\u001b[38;5;124mfivethirtyeight\u001b[39m\u001b[38;5;124m'\u001b[39m)\n\u001b[1;32m----> 7\u001b[0m pd\u001b[38;5;241m.\u001b[39mset_option(\u001b[38;5;124m'\u001b[39m\u001b[38;5;124mmax_columns\u001b[39m\u001b[38;5;124m'\u001b[39m,\u001b[38;5;241m500\u001b[39m)\n\u001b[0;32m      8\u001b[0m color_pal \u001b[38;5;241m=\u001b[39m plt\u001b[38;5;241m.\u001b[39mrcParmas[\u001b[38;5;124m\"\u001b[39m\u001b[38;5;124maxes.prop_cycle\u001b[39m\u001b[38;5;124m\"\u001b[39m]\u001b[38;5;241m.\u001b[39mby_key()[\u001b[38;5;124m\"\u001b[39m\u001b[38;5;124mcolor\u001b[39m\u001b[38;5;124m\"\u001b[39m]\n\u001b[0;32m      9\u001b[0m \u001b[38;5;28;01mfrom\u001b[39;00m \u001b[38;5;21;01mfredapi\u001b[39;00m \u001b[38;5;28;01mimport\u001b[39;00m Fred\n",
      "File \u001b[1;32mE:\\mkkk\\anaconda\\Lib\\site-packages\\pandas\\_config\\config.py:263\u001b[0m, in \u001b[0;36mCallableDynamicDoc.__call__\u001b[1;34m(self, *args, **kwds)\u001b[0m\n\u001b[0;32m    262\u001b[0m \u001b[38;5;28;01mdef\u001b[39;00m \u001b[38;5;21m__call__\u001b[39m(\u001b[38;5;28mself\u001b[39m, \u001b[38;5;241m*\u001b[39margs, \u001b[38;5;241m*\u001b[39m\u001b[38;5;241m*\u001b[39mkwds) \u001b[38;5;241m-\u001b[39m\u001b[38;5;241m>\u001b[39m T:\n\u001b[1;32m--> 263\u001b[0m     \u001b[38;5;28;01mreturn\u001b[39;00m \u001b[38;5;28mself\u001b[39m\u001b[38;5;241m.\u001b[39m\u001b[38;5;18m__func__\u001b[39m(\u001b[38;5;241m*\u001b[39margs, \u001b[38;5;241m*\u001b[39m\u001b[38;5;241m*\u001b[39mkwds)\n",
      "File \u001b[1;32mE:\\mkkk\\anaconda\\Lib\\site-packages\\pandas\\_config\\config.py:156\u001b[0m, in \u001b[0;36m_set_option\u001b[1;34m(*args, **kwargs)\u001b[0m\n\u001b[0;32m    153\u001b[0m     \u001b[38;5;28;01mraise\u001b[39;00m \u001b[38;5;167;01mTypeError\u001b[39;00m(\u001b[38;5;124mf\u001b[39m\u001b[38;5;124m'\u001b[39m\u001b[38;5;124m_set_option() got an unexpected keyword argument \u001b[39m\u001b[38;5;124m\"\u001b[39m\u001b[38;5;132;01m{\u001b[39;00mkwarg\u001b[38;5;132;01m}\u001b[39;00m\u001b[38;5;124m\"\u001b[39m\u001b[38;5;124m'\u001b[39m)\n\u001b[0;32m    155\u001b[0m \u001b[38;5;28;01mfor\u001b[39;00m k, v \u001b[38;5;129;01min\u001b[39;00m \u001b[38;5;28mzip\u001b[39m(args[::\u001b[38;5;241m2\u001b[39m], args[\u001b[38;5;241m1\u001b[39m::\u001b[38;5;241m2\u001b[39m]):\n\u001b[1;32m--> 156\u001b[0m     key \u001b[38;5;241m=\u001b[39m _get_single_key(k, silent)\n\u001b[0;32m    158\u001b[0m     o \u001b[38;5;241m=\u001b[39m _get_registered_option(key)\n\u001b[0;32m    159\u001b[0m     \u001b[38;5;28;01mif\u001b[39;00m o \u001b[38;5;129;01mand\u001b[39;00m o\u001b[38;5;241m.\u001b[39mvalidator:\n",
      "File \u001b[1;32mE:\\mkkk\\anaconda\\Lib\\site-packages\\pandas\\_config\\config.py:123\u001b[0m, in \u001b[0;36m_get_single_key\u001b[1;34m(pat, silent)\u001b[0m\n\u001b[0;32m    121\u001b[0m     \u001b[38;5;28;01mraise\u001b[39;00m OptionError(\u001b[38;5;124mf\u001b[39m\u001b[38;5;124m\"\u001b[39m\u001b[38;5;124mNo such keys(s): \u001b[39m\u001b[38;5;132;01m{\u001b[39;00m\u001b[38;5;28mrepr\u001b[39m(pat)\u001b[38;5;132;01m}\u001b[39;00m\u001b[38;5;124m\"\u001b[39m)\n\u001b[0;32m    122\u001b[0m \u001b[38;5;28;01mif\u001b[39;00m \u001b[38;5;28mlen\u001b[39m(keys) \u001b[38;5;241m>\u001b[39m \u001b[38;5;241m1\u001b[39m:\n\u001b[1;32m--> 123\u001b[0m     \u001b[38;5;28;01mraise\u001b[39;00m OptionError(\u001b[38;5;124m\"\u001b[39m\u001b[38;5;124mPattern matched multiple keys\u001b[39m\u001b[38;5;124m\"\u001b[39m)\n\u001b[0;32m    124\u001b[0m key \u001b[38;5;241m=\u001b[39m keys[\u001b[38;5;241m0\u001b[39m]\n\u001b[0;32m    126\u001b[0m \u001b[38;5;28;01mif\u001b[39;00m \u001b[38;5;129;01mnot\u001b[39;00m silent:\n",
      "\u001b[1;31mOptionError\u001b[0m: Pattern matched multiple keys"
     ]
    }
   ],
   "source": [
    "import pandas as pd\n",
    "import numpy as np\n",
    "import matplotlib.pyplot as plt\n",
    "import plotly as px\n",
    "\n",
    "plt.style.use('fivethirtyeight')\n",
    "pd.set_option('max_columns',500)\n",
    "color_pal = plt.rcParmas[\"axes.prop_cycle\"].by_key()[\"color\"]\n",
    "from fredapi import Fred\n",
    "# api key fred = f07e67ec464627c7601353c68930c321\n",
    "#url = \"https://api.stlouisfed.org/fred/series/search?api_key=f07e67ec464627c7601353c68930c321&search_text=canada\"\n",
    "fred_key = 'f07e67ec464627c7601353c68930c321'\n"
   ]
  },
  {
   "cell_type": "markdown",
   "id": "42f9a6b3-a470-49b1-89b8-129b2d9effc9",
   "metadata": {},
   "source": [
    "### create the fred object"
   ]
  },
  {
   "cell_type": "code",
   "execution_count": 6,
   "id": "d50cbc53-eb2f-4efe-869d-6000c5845855",
   "metadata": {
    "tags": []
   },
   "outputs": [
    {
     "ename": "NameError",
     "evalue": "name 'Fred' is not defined",
     "output_type": "error",
     "traceback": [
      "\u001b[1;31m---------------------------------------------------------------------------\u001b[0m",
      "\u001b[1;31mNameError\u001b[0m                                 Traceback (most recent call last)",
      "Cell \u001b[1;32mIn[6], line 1\u001b[0m\n\u001b[1;32m----> 1\u001b[0m fred \u001b[38;5;241m=\u001b[39m Fred(api_key \u001b[38;5;241m=\u001b[39m fred_key)\n\u001b[0;32m      2\u001b[0m fred\n",
      "\u001b[1;31mNameError\u001b[0m: name 'Fred' is not defined"
     ]
    }
   ],
   "source": [
    "fred = Fred(api_key = fred_key)\n",
    "fred"
   ]
  },
  {
   "cell_type": "code",
   "execution_count": 10,
   "id": "82d4caa6-8c13-4de5-9a6b-11b20129e3bf",
   "metadata": {
    "tags": []
   },
   "outputs": [
    {
     "ename": "NameError",
     "evalue": "name 'fred' is not defined",
     "output_type": "error",
     "traceback": [
      "\u001b[1;31m---------------------------------------------------------------------------\u001b[0m",
      "\u001b[1;31mNameError\u001b[0m                                 Traceback (most recent call last)",
      "Cell \u001b[1;32mIn[10], line 1\u001b[0m\n\u001b[1;32m----> 1\u001b[0m fred\u001b[38;5;241m.\u001b[39msearch(\u001b[38;5;124m'\u001b[39m\u001b[38;5;124mS&P\u001b[39m\u001b[38;5;124m'\u001b[39m)\n\u001b[0;32m      2\u001b[0m fred\n",
      "\u001b[1;31mNameError\u001b[0m: name 'fred' is not defined"
     ]
    }
   ],
   "source": [
    "fred.search('S&P')\n"
   ]
  },
  {
   "cell_type": "code",
   "execution_count": null,
   "id": "384f9795-02e3-4ee8-b146-8d672691e089",
   "metadata": {},
   "outputs": [],
   "source": []
  }
 ],
 "metadata": {
  "kernelspec": {
   "display_name": "Python 3 (ipykernel)",
   "language": "python",
   "name": "python3"
  },
  "language_info": {
   "codemirror_mode": {
    "name": "ipython",
    "version": 3
   },
   "file_extension": ".py",
   "mimetype": "text/x-python",
   "name": "python",
   "nbconvert_exporter": "python",
   "pygments_lexer": "ipython3",
   "version": "3.11.3"
  }
 },
 "nbformat": 4,
 "nbformat_minor": 5
}
