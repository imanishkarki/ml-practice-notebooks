{
 "cells": [
  {
   "cell_type": "code",
   "execution_count": 5,
   "id": "fc4c0b67-c7ed-4279-b6d5-f71ee7fa5793",
   "metadata": {
    "tags": []
   },
   "outputs": [],
   "source": [
    "import numpy as np\n",
    "import pandas as pd\n",
    "import seaborn as sn\n",
    "import matplotlib.pyplot as plt\n",
    "\n",
    "from sklearn.model_selection import train_test_split\n",
    "from sklearn.linear_model import LinearRegression\n",
    "from sklearn import metrics"
   ]
  },
  {
   "cell_type": "code",
   "execution_count": 8,
   "id": "9d998425-2e86-45a2-939e-55312534610b",
   "metadata": {
    "tags": []
   },
   "outputs": [
    {
     "data": {
      "text/html": [
       "<div>\n",
       "<style scoped>\n",
       "    .dataframe tbody tr th:only-of-type {\n",
       "        vertical-align: middle;\n",
       "    }\n",
       "\n",
       "    .dataframe tbody tr th {\n",
       "        vertical-align: top;\n",
       "    }\n",
       "\n",
       "    .dataframe thead th {\n",
       "        text-align: right;\n",
       "    }\n",
       "</style>\n",
       "<table border=\"1\" class=\"dataframe\">\n",
       "  <thead>\n",
       "    <tr style=\"text-align: right;\">\n",
       "      <th></th>\n",
       "      <th>age</th>\n",
       "      <th>sex</th>\n",
       "      <th>bmi</th>\n",
       "      <th>children</th>\n",
       "      <th>smoker</th>\n",
       "      <th>region</th>\n",
       "      <th>charges</th>\n",
       "    </tr>\n",
       "  </thead>\n",
       "  <tbody>\n",
       "    <tr>\n",
       "      <th>0</th>\n",
       "      <td>19</td>\n",
       "      <td>female</td>\n",
       "      <td>27.900</td>\n",
       "      <td>0</td>\n",
       "      <td>yes</td>\n",
       "      <td>southwest</td>\n",
       "      <td>16884.92400</td>\n",
       "    </tr>\n",
       "    <tr>\n",
       "      <th>1</th>\n",
       "      <td>18</td>\n",
       "      <td>male</td>\n",
       "      <td>33.770</td>\n",
       "      <td>1</td>\n",
       "      <td>no</td>\n",
       "      <td>southeast</td>\n",
       "      <td>1725.55230</td>\n",
       "    </tr>\n",
       "    <tr>\n",
       "      <th>2</th>\n",
       "      <td>28</td>\n",
       "      <td>male</td>\n",
       "      <td>33.000</td>\n",
       "      <td>3</td>\n",
       "      <td>no</td>\n",
       "      <td>southeast</td>\n",
       "      <td>4449.46200</td>\n",
       "    </tr>\n",
       "    <tr>\n",
       "      <th>3</th>\n",
       "      <td>33</td>\n",
       "      <td>male</td>\n",
       "      <td>22.705</td>\n",
       "      <td>0</td>\n",
       "      <td>no</td>\n",
       "      <td>northwest</td>\n",
       "      <td>21984.47061</td>\n",
       "    </tr>\n",
       "    <tr>\n",
       "      <th>4</th>\n",
       "      <td>32</td>\n",
       "      <td>male</td>\n",
       "      <td>28.880</td>\n",
       "      <td>0</td>\n",
       "      <td>no</td>\n",
       "      <td>northwest</td>\n",
       "      <td>3866.85520</td>\n",
       "    </tr>\n",
       "  </tbody>\n",
       "</table>\n",
       "</div>"
      ],
      "text/plain": [
       "   age     sex     bmi  children smoker     region      charges\n",
       "0   19  female  27.900         0    yes  southwest  16884.92400\n",
       "1   18    male  33.770         1     no  southeast   1725.55230\n",
       "2   28    male  33.000         3     no  southeast   4449.46200\n",
       "3   33    male  22.705         0     no  northwest  21984.47061\n",
       "4   32    male  28.880         0     no  northwest   3866.85520"
      ]
     },
     "execution_count": 8,
     "metadata": {},
     "output_type": "execute_result"
    }
   ],
   "source": [
    "insurance_dataset = pd.read_csv('insurance.csv')\n",
    "insurance_dataset.head(5)"
   ]
  },
  {
   "cell_type": "code",
   "execution_count": 9,
   "id": "ba153bd5-e483-4b2f-b20b-ed936545a1ab",
   "metadata": {},
   "outputs": [
    {
     "name": "stdout",
     "output_type": "stream",
     "text": [
      "['female' 'male']\n"
     ]
    }
   ],
   "source": [
    "df=pd.DataFrame(insurance_dataset)\n",
    "print(df['sex'].unique())"
   ]
  },
  {
   "cell_type": "code",
   "execution_count": 10,
   "id": "26d9b828-3478-4bfc-84a4-6b95b3accd43",
   "metadata": {
    "tags": []
   },
   "outputs": [
    {
     "data": {
      "text/plain": [
       "(1338, 7)"
      ]
     },
     "execution_count": 10,
     "metadata": {},
     "output_type": "execute_result"
    }
   ],
   "source": [
    "insurance_dataset.shape"
   ]
  },
  {
   "cell_type": "code",
   "execution_count": 11,
   "id": "929d25a5-6a5f-4f33-bfdf-6bc9fa9dbc81",
   "metadata": {
    "tags": []
   },
   "outputs": [
    {
     "name": "stdout",
     "output_type": "stream",
     "text": [
      "<class 'pandas.core.frame.DataFrame'>\n",
      "RangeIndex: 1338 entries, 0 to 1337\n",
      "Data columns (total 7 columns):\n",
      " #   Column    Non-Null Count  Dtype  \n",
      "---  ------    --------------  -----  \n",
      " 0   age       1338 non-null   int64  \n",
      " 1   sex       1338 non-null   object \n",
      " 2   bmi       1338 non-null   float64\n",
      " 3   children  1338 non-null   int64  \n",
      " 4   smoker    1338 non-null   object \n",
      " 5   region    1338 non-null   object \n",
      " 6   charges   1338 non-null   float64\n",
      "dtypes: float64(2), int64(2), object(3)\n",
      "memory usage: 73.3+ KB\n"
     ]
    }
   ],
   "source": [
    "insurance_dataset.info()"
   ]
  },
  {
   "cell_type": "markdown",
   "id": "e394526d-34d4-4939-a070-b0aed6d33834",
   "metadata": {},
   "source": [
    "categorical features:\n",
    "Sex, Smoker, Region\n",
    "\n",
    "    "
   ]
  },
  {
   "cell_type": "code",
   "execution_count": 12,
   "id": "757c4cc4-e402-4e08-9c41-4189d89d1907",
   "metadata": {
    "tags": []
   },
   "outputs": [
    {
     "data": {
      "text/plain": [
       "age         0\n",
       "sex         0\n",
       "bmi         0\n",
       "children    0\n",
       "smoker      0\n",
       "region      0\n",
       "charges     0\n",
       "dtype: int64"
      ]
     },
     "execution_count": 12,
     "metadata": {},
     "output_type": "execute_result"
    }
   ],
   "source": [
    "insurance_dataset.isnull().sum()"
   ]
  },
  {
   "cell_type": "markdown",
   "id": "93df6ae3-aa11-4f89-9789-d75e7915f2e1",
   "metadata": {},
   "source": [
    "Data analysis"
   ]
  },
  {
   "cell_type": "code",
   "execution_count": 21,
   "id": "d4e0aa82-d1ad-48b0-8e72-3d9bce6c554e",
   "metadata": {
    "tags": []
   },
   "outputs": [
    {
     "data": {
      "text/html": [
       "<div>\n",
       "<style scoped>\n",
       "    .dataframe tbody tr th:only-of-type {\n",
       "        vertical-align: middle;\n",
       "    }\n",
       "\n",
       "    .dataframe tbody tr th {\n",
       "        vertical-align: top;\n",
       "    }\n",
       "\n",
       "    .dataframe thead th {\n",
       "        text-align: right;\n",
       "    }\n",
       "</style>\n",
       "<table border=\"1\" class=\"dataframe\">\n",
       "  <thead>\n",
       "    <tr style=\"text-align: right;\">\n",
       "      <th></th>\n",
       "      <th>age</th>\n",
       "      <th>bmi</th>\n",
       "      <th>children</th>\n",
       "      <th>charges</th>\n",
       "    </tr>\n",
       "  </thead>\n",
       "  <tbody>\n",
       "    <tr>\n",
       "      <th>count</th>\n",
       "      <td>1338.000000</td>\n",
       "      <td>1338.000000</td>\n",
       "      <td>1338.000000</td>\n",
       "      <td>1338.000000</td>\n",
       "    </tr>\n",
       "    <tr>\n",
       "      <th>mean</th>\n",
       "      <td>39.207025</td>\n",
       "      <td>30.663397</td>\n",
       "      <td>1.094918</td>\n",
       "      <td>13270.422265</td>\n",
       "    </tr>\n",
       "    <tr>\n",
       "      <th>std</th>\n",
       "      <td>14.049960</td>\n",
       "      <td>6.098187</td>\n",
       "      <td>1.205493</td>\n",
       "      <td>12110.011237</td>\n",
       "    </tr>\n",
       "    <tr>\n",
       "      <th>min</th>\n",
       "      <td>18.000000</td>\n",
       "      <td>15.960000</td>\n",
       "      <td>0.000000</td>\n",
       "      <td>1121.873900</td>\n",
       "    </tr>\n",
       "    <tr>\n",
       "      <th>25%</th>\n",
       "      <td>27.000000</td>\n",
       "      <td>26.296250</td>\n",
       "      <td>0.000000</td>\n",
       "      <td>4740.287150</td>\n",
       "    </tr>\n",
       "    <tr>\n",
       "      <th>50%</th>\n",
       "      <td>39.000000</td>\n",
       "      <td>30.400000</td>\n",
       "      <td>1.000000</td>\n",
       "      <td>9382.033000</td>\n",
       "    </tr>\n",
       "    <tr>\n",
       "      <th>75%</th>\n",
       "      <td>51.000000</td>\n",
       "      <td>34.693750</td>\n",
       "      <td>2.000000</td>\n",
       "      <td>16639.912515</td>\n",
       "    </tr>\n",
       "    <tr>\n",
       "      <th>max</th>\n",
       "      <td>64.000000</td>\n",
       "      <td>53.130000</td>\n",
       "      <td>5.000000</td>\n",
       "      <td>63770.428010</td>\n",
       "    </tr>\n",
       "  </tbody>\n",
       "</table>\n",
       "</div>"
      ],
      "text/plain": [
       "               age          bmi     children       charges\n",
       "count  1338.000000  1338.000000  1338.000000   1338.000000\n",
       "mean     39.207025    30.663397     1.094918  13270.422265\n",
       "std      14.049960     6.098187     1.205493  12110.011237\n",
       "min      18.000000    15.960000     0.000000   1121.873900\n",
       "25%      27.000000    26.296250     0.000000   4740.287150\n",
       "50%      39.000000    30.400000     1.000000   9382.033000\n",
       "75%      51.000000    34.693750     2.000000  16639.912515\n",
       "max      64.000000    53.130000     5.000000  63770.428010"
      ]
     },
     "execution_count": 21,
     "metadata": {},
     "output_type": "execute_result"
    }
   ],
   "source": [
    "insurance_dataset.describe()"
   ]
  },
  {
   "cell_type": "markdown",
   "id": "1aae37ad-4a60-4b2d-a49b-effe31b86e5d",
   "metadata": {},
   "source": [
    "Encoding the categorical features"
   ]
  },
  {
   "cell_type": "code",
   "execution_count": 13,
   "id": "585ffd51-0df4-43d8-a779-4f30a1c5b87b",
   "metadata": {
    "tags": []
   },
   "outputs": [],
   "source": [
    "#encoding the sex, smoker,region  column\n",
    "insurance_dataset.replace({'sex':{'male':0, 'female':1}}, inplace=True)\n",
    "insurance_dataset.replace({'smoker':{'yes':0, 'no':1}}, inplace=True)\n",
    "insurance_dataset.replace({'region':{'southeast':0,'southwest':1,'northeast':2, 'northwest':3}}, inplace=True)\n"
   ]
  },
  {
   "cell_type": "code",
   "execution_count": 14,
   "id": "f9eaef6f-627a-42d9-af80-2cbca7e3528f",
   "metadata": {
    "tags": []
   },
   "outputs": [],
   "source": [
    "#splitting train test split\n",
    "X= insurance_dataset.drop(columns='charges', axis=1)\n",
    "Y=insurance_dataset['charges']"
   ]
  },
  {
   "cell_type": "code",
   "execution_count": 11,
   "id": "da46a127-b471-4d4a-83c4-6ea7e12dd70d",
   "metadata": {
    "tags": []
   },
   "outputs": [
    {
     "name": "stdout",
     "output_type": "stream",
     "text": [
      "      age  sex     bmi  children  smoker  region\n",
      "0      19    1  27.900         0       0       1\n",
      "1      18    0  33.770         1       1       0\n",
      "2      28    0  33.000         3       1       0\n",
      "3      33    0  22.705         0       1       3\n",
      "4      32    0  28.880         0       1       3\n",
      "...   ...  ...     ...       ...     ...     ...\n",
      "1333   50    0  30.970         3       1       3\n",
      "1334   18    1  31.920         0       1       2\n",
      "1335   18    1  36.850         0       1       0\n",
      "1336   21    1  25.800         0       1       1\n",
      "1337   61    1  29.070         0       0       3\n",
      "\n",
      "[1338 rows x 6 columns]\n"
     ]
    }
   ],
   "source": [
    "print(X)"
   ]
  },
  {
   "cell_type": "code",
   "execution_count": 15,
   "id": "682b0c6c-2cca-4395-a1a0-e9042619e2e9",
   "metadata": {
    "tags": []
   },
   "outputs": [],
   "source": [
    "X_train, X_test, Y_train, Y_test= train_test_split(X,Y, test_size=0.2, random_state=2)"
   ]
  },
  {
   "cell_type": "code",
   "execution_count": 16,
   "id": "07d320cd-3283-430c-b4c4-8214f8b49184",
   "metadata": {
    "tags": []
   },
   "outputs": [
    {
     "data": {
      "text/html": [
       "<div>\n",
       "<style scoped>\n",
       "    .dataframe tbody tr th:only-of-type {\n",
       "        vertical-align: middle;\n",
       "    }\n",
       "\n",
       "    .dataframe tbody tr th {\n",
       "        vertical-align: top;\n",
       "    }\n",
       "\n",
       "    .dataframe thead th {\n",
       "        text-align: right;\n",
       "    }\n",
       "</style>\n",
       "<table border=\"1\" class=\"dataframe\">\n",
       "  <thead>\n",
       "    <tr style=\"text-align: right;\">\n",
       "      <th></th>\n",
       "      <th>age</th>\n",
       "      <th>sex</th>\n",
       "      <th>bmi</th>\n",
       "      <th>children</th>\n",
       "      <th>smoker</th>\n",
       "      <th>region</th>\n",
       "    </tr>\n",
       "  </thead>\n",
       "  <tbody>\n",
       "    <tr>\n",
       "      <th>882</th>\n",
       "      <td>21</td>\n",
       "      <td>1</td>\n",
       "      <td>22.135</td>\n",
       "      <td>0</td>\n",
       "      <td>1</td>\n",
       "      <td>2</td>\n",
       "    </tr>\n",
       "    <tr>\n",
       "      <th>505</th>\n",
       "      <td>37</td>\n",
       "      <td>0</td>\n",
       "      <td>30.875</td>\n",
       "      <td>3</td>\n",
       "      <td>1</td>\n",
       "      <td>3</td>\n",
       "    </tr>\n",
       "    <tr>\n",
       "      <th>798</th>\n",
       "      <td>58</td>\n",
       "      <td>1</td>\n",
       "      <td>33.100</td>\n",
       "      <td>0</td>\n",
       "      <td>1</td>\n",
       "      <td>1</td>\n",
       "    </tr>\n",
       "    <tr>\n",
       "      <th>792</th>\n",
       "      <td>22</td>\n",
       "      <td>1</td>\n",
       "      <td>23.180</td>\n",
       "      <td>0</td>\n",
       "      <td>1</td>\n",
       "      <td>2</td>\n",
       "    </tr>\n",
       "    <tr>\n",
       "      <th>201</th>\n",
       "      <td>48</td>\n",
       "      <td>1</td>\n",
       "      <td>32.230</td>\n",
       "      <td>1</td>\n",
       "      <td>1</td>\n",
       "      <td>0</td>\n",
       "    </tr>\n",
       "  </tbody>\n",
       "</table>\n",
       "</div>"
      ],
      "text/plain": [
       "     age  sex     bmi  children  smoker  region\n",
       "882   21    1  22.135         0       1       2\n",
       "505   37    0  30.875         3       1       3\n",
       "798   58    1  33.100         0       1       1\n",
       "792   22    1  23.180         0       1       2\n",
       "201   48    1  32.230         1       1       0"
      ]
     },
     "execution_count": 16,
     "metadata": {},
     "output_type": "execute_result"
    }
   ],
   "source": [
    "X_train.head(5)"
   ]
  },
  {
   "cell_type": "code",
   "execution_count": 17,
   "id": "72e5097f-6767-4ec6-831d-1a917a805c15",
   "metadata": {
    "tags": []
   },
   "outputs": [
    {
     "name": "stdout",
     "output_type": "stream",
     "text": [
      "Size of X_train :  (1070, 6)\n",
      "Size of y_train :  (1070,)\n",
      "Size of X_test :  (268, 6)\n",
      "Size of Y_test :  (268,)\n"
     ]
    }
   ],
   "source": [
    "print('Size of X_train : ', X_train.shape)\n",
    "print('Size of y_train : ', Y_train.shape)\n",
    "print('Size of X_test : ', X_test.shape)\n",
    "print('Size of Y_test : ', Y_test.shape)"
   ]
  },
  {
   "cell_type": "code",
   "execution_count": 26,
   "id": "6524b082-3960-4320-b2d5-7a81abd642fe",
   "metadata": {
    "tags": []
   },
   "outputs": [],
   "source": [
    "import numpy as np\n",
    "\n",
    "class MyLR:\n",
    "    def __init__(self):\n",
    "        self.coef_ = None \n",
    "        self.intercept_ = None\n",
    "\n",
    "    def fit(self, X_train, Y_train):\n",
    "        # Convert to NumPy arrays if input is a DataFrame or Series\n",
    "        if not isinstance(X_train, np.ndarray):\n",
    "            X_train = X_train.to_numpy()\n",
    "        if not isinstance(Y_train, np.ndarray):\n",
    "            Y_train = Y_train.to_numpy()\n",
    "        \n",
    "        # Add bias term to X_train\n",
    "        X_train = np.insert(X_train, 0, 1, axis=1)\n",
    "\n",
    "        # Compute coefficients using the normal equation\n",
    "        betas = np.linalg.inv(np.dot(X_train.T,X_train)).dot(X_train.T).dot(Y_train)\n",
    "        self.intercept_ = betas[0]\n",
    "        self.coef_ = betas[1:]\n",
    "\n",
    "    def predict(self, X_test):\n",
    "        # Convert to NumPy array if input is a DataFrame\n",
    "        if not isinstance(X_test, np.ndarray):\n",
    "            X_test = X_test.to_numpy()\n",
    "        \n",
    "        # Add bias term to X_test\n",
    "       #X_test = np.insert(X_test, 0, 1, axis=1)\n",
    "\n",
    "        # Compute predictions\n",
    "        y_pred = np.dot(X_test, self.coef_) + self.intercept_\n",
    "        return y_pred\n"
   ]
  },
  {
   "cell_type": "code",
   "execution_count": 27,
   "id": "2dc55720-88c3-40ca-8971-ed4aa1d7e36b",
   "metadata": {
    "tags": []
   },
   "outputs": [],
   "source": [
    "lr = MyLR()\n"
   ]
  },
  {
   "cell_type": "code",
   "execution_count": 28,
   "id": "52815dec-af8a-4c80-a18e-7a951257eb72",
   "metadata": {
    "tags": []
   },
   "outputs": [],
   "source": [
    "lr.fit(X_train, Y_train)"
   ]
  },
  {
   "cell_type": "code",
   "execution_count": 29,
   "id": "dde9a1a4-e03d-4907-be18-b4f9776317f1",
   "metadata": {
    "tags": []
   },
   "outputs": [
    {
     "data": {
      "text/plain": [
       "array([ 1520.59242161, 11570.5920178 , 10082.43849883,  2246.21754312,\n",
       "        7881.28362035, 11081.50227956,  3538.24791808,   698.03224036,\n",
       "       12223.4851558 ,  9611.93217623, 11657.51046259,  4891.0539656 ,\n",
       "       29947.50192274,  -370.8384887 , 12401.36048618, 13243.21522903,\n",
       "        3814.42216541,  7883.39384825, 29431.34485576,  2362.83672121,\n",
       "       12505.50452609,  2256.75277238, 34468.01948464, 31742.4859866 ,\n",
       "       30306.19118561,  9027.76110059,  1923.87420399, 15247.09503907,\n",
       "        6542.61302531,  2104.79910554,  9484.36642532,  5794.91649267,\n",
       "        4425.26853454,  5015.3811241 ,  9579.4545934 ,  4601.74838962,\n",
       "       29875.58083252,  6797.04084444, 27239.25811383, 13999.0938259 ,\n",
       "         313.55184653, 28415.75044713,  7886.54751277,  1478.09056648,\n",
       "       10273.28966107,  8003.09003405, 11612.15283896,  8175.95966058,\n",
       "       10753.45200738, 13802.18082647,  5740.90172027,  -737.1333321 ,\n",
       "       26346.21771217, 37192.66032995,  7364.09646118, 17845.51752284,\n",
       "        1412.63748094, 11042.48090545,  2159.33597148, 34066.1609094 ,\n",
       "       11646.83178834,   874.98548929,  4020.66706965, 35913.0386546 ,\n",
       "       -1034.71506651, 13963.49470486, 14840.86595147,  3395.11689253,\n",
       "       12935.74119039, 11199.38639761, 11579.90265947, 16132.93772732,\n",
       "       10183.88439249,  9888.34374983, 15157.35586536, 12377.94812939,\n",
       "        4387.77863628,  3680.0942183 ,  5347.06219182, 13291.0174177 ,\n",
       "        9158.24253865, 11935.82529104,  9522.10094863, 27668.10801212,\n",
       "       12639.34008179,  3989.82506218, 38550.3600665 , 11191.86138788,\n",
       "        8088.76475698, 11068.02157864, 10956.54972199, 15139.01708371,\n",
       "       11077.7652618 , 13045.02707757,  5283.33522041, 25958.0327765 ,\n",
       "        4962.43983078, 10543.57361001,  2709.95649343, 29007.79585973,\n",
       "        6350.41196404,  3478.11303549,  2661.5079005 , 15990.91366368,\n",
       "        7905.79980945, 10304.73937225,  9962.86575973,  5066.24762376,\n",
       "       14869.35897203, 33752.1676117 ,  3761.88660755, 11521.18346955,\n",
       "       24631.42819661, 14803.95189475,  1734.60861523, 10401.39588933,\n",
       "        9202.60416666,  6288.03801508, 11838.14846799, 28871.88920869,\n",
       "        6579.83915531,  7172.5493248 , 15845.7059381 , 16235.1462466 ,\n",
       "        8251.21825771, 26323.60251235, 35303.7543364 , 11847.13682432,\n",
       "        8073.11495528,  9326.25448529,  8467.39129356,  2933.9917805 ,\n",
       "        3322.8695607 ,  4683.92759642,  8307.29448212,  8002.16943038,\n",
       "        7053.31134868, 28990.07000293, 35181.28277884,  4167.15930146,\n",
       "       27886.14685479,  4144.07006286,  6628.26922773, 13311.51217138,\n",
       "        8025.49599525, 36451.54381063, 11784.84114664, 11347.89349827,\n",
       "        8294.89578165,   524.38645586,  6503.27709943,  7165.34947975,\n",
       "        4638.1194905 , 11666.09138657, 11630.93778466, 15478.52566732,\n",
       "        5856.27738941, 27679.01778802,  1979.26736391, 11476.47168147,\n",
       "       16974.37864533, 13934.2661456 ,  9520.8147517 ,  2269.28578271,\n",
       "        4396.04458266,  8922.70311363, 19309.54145116, 28276.8594048 ,\n",
       "       12676.31036501,  2965.72503913, 32305.95532934, 13107.14725741,\n",
       "       32778.03744536, 34349.43983065, 11161.90211021,  7576.16565725,\n",
       "        2633.64298278,  2362.83672121, 11656.06768299,  7884.51285855,\n",
       "        2926.10661155,  1166.95403524, 31658.17342743,  7134.58660758,\n",
       "        5557.65095352, 27325.26552208,  6609.80947788,  2654.92453849,\n",
       "        7915.90908586, 35382.85588438,  7986.35556548,  4319.94677933,\n",
       "        9477.98125702, 26872.46549002,  5713.52005266, 40198.16671135,\n",
       "       37499.39947482, 12998.97434383, 26841.49272812, 11921.07008303,\n",
       "       37470.06851291,  7403.67284293,  4214.20198795,  1961.81400965,\n",
       "       14048.97433527, 14018.66010565,  2180.00417375, 35697.72795561,\n",
       "       12791.22900693,  8748.61933066,  1132.66189998, 30647.68798314,\n",
       "        3495.69714418,  3469.35222538, 12600.42201939, 15082.03691758,\n",
       "       29668.01412306,   -90.72967482,  3183.27545559,  8454.89054624,\n",
       "       39754.78580876,  7972.36417173, 35120.73194872, 27504.76077554,\n",
       "       13731.00485102, 28889.95796905, 16499.4845035 ,  7606.95831393,\n",
       "       16113.44475909,  7121.06385743, 10218.00060066,  3711.06528332,\n",
       "        8798.98783422,  1921.16940112, 32853.72073048, 32064.68779053,\n",
       "       14808.74127134, 11403.04577031,  1017.44053899,  6282.0954554 ,\n",
       "       11157.27362218,  4173.88588937, 10981.18496951,  1055.76715878,\n",
       "       34880.38727916, 32433.90662952, 10508.02880569, 26355.22189142,\n",
       "       12805.78624032,  1722.14283127, 11198.49344957,  2425.6595318 ,\n",
       "        7497.57207675, 10638.4733706 , 17092.44095263,  5779.81964596,\n",
       "       10521.06603397,  -521.71832066, -2343.57982801,  1908.03764045,\n",
       "       27783.94876666, 33997.01915615, 37349.83789264, -1669.89064998,\n",
       "       15722.41952204, 36968.05564506, 12987.36484768, 34174.92279327])"
      ]
     },
     "execution_count": 29,
     "metadata": {},
     "output_type": "execute_result"
    }
   ],
   "source": [
    "lr.predict(X_test)"
   ]
  },
  {
   "cell_type": "code",
   "execution_count": null,
   "id": "1d7dccb8-deec-459c-869d-99ca82b7302a",
   "metadata": {},
   "outputs": [],
   "source": []
  },
  {
   "cell_type": "code",
   "execution_count": 12,
   "id": "9a2ac9ec-257b-4dc2-9515-d5196457f5e6",
   "metadata": {
    "tags": []
   },
   "outputs": [],
   "source": []
  },
  {
   "cell_type": "code",
   "execution_count": 28,
   "id": "08659b59-99e7-46a3-aa1d-a91e083130cd",
   "metadata": {
    "tags": []
   },
   "outputs": [],
   "source": [
    "#model evaluation\n",
    "#Prediction on training data\n",
    "training_data_prediction = lr.predict(X_train)"
   ]
  },
  {
   "cell_type": "code",
   "execution_count": 29,
   "id": "c350b91e-ec89-4325-b7d6-c424d14aa1ed",
   "metadata": {
    "tags": []
   },
   "outputs": [
    {
     "name": "stdout",
     "output_type": "stream",
     "text": [
      "R sq Value:  0.751505643411174\n"
     ]
    }
   ],
   "source": [
    "#R sq value\n",
    "r2_train=metrics.r2_score(Y_train, training_data_prediction)\n",
    "print('R sq Value: ', r2_train)"
   ]
  },
  {
   "cell_type": "code",
   "execution_count": 30,
   "id": "ac104f63-4adf-4309-810e-a4bc67d77e7a",
   "metadata": {
    "tags": []
   },
   "outputs": [],
   "source": [
    "test_data_prediction=lr.predict(X_test)"
   ]
  },
  {
   "cell_type": "code",
   "execution_count": 31,
   "id": "c2714c96-be4b-4c82-94f4-2827b0a74ab4",
   "metadata": {
    "tags": []
   },
   "outputs": [
    {
     "name": "stdout",
     "output_type": "stream",
     "text": [
      "R sq Value:  0.7447273869684078\n"
     ]
    }
   ],
   "source": [
    "r2_test=metrics.r2_score(Y_test, test_data_prediction)\n",
    "print('R sq Value: ', r2_test)"
   ]
  },
  {
   "cell_type": "code",
   "execution_count": 30,
   "id": "4f00b568-5b98-4d86-abb1-3d3081e81c2d",
   "metadata": {},
   "outputs": [
    {
     "name": "stdout",
     "output_type": "stream",
     "text": [
      "Please enter six numerical values:\n"
     ]
    },
    {
     "name": "stdin",
     "output_type": "stream",
     "text": [
      "Enter value age :  25\n",
      "Enter value sex :  1\n",
      "Enter value bmi :  29\n",
      "Enter value childeren :  2\n",
      "Enter value smoker :  1\n",
      "Enter value region :  2\n"
     ]
    },
    {
     "name": "stdout",
     "output_type": "stream",
     "text": [
      "Numpyarrayyy : [25.  1. 29.  2.  1.  2.]\n",
      "Your Reshaped NumPy array: [[25.  1. 29.  2.  1.  2.]]\n",
      "Cost: $ [4914.55063654]\n",
      "[   251.40512196     26.11715966    330.64637157    580.27438296\n",
      " -23928.10171061    212.22242728]\n",
      "[  251.40512196    26.11715966   330.64637157   580.27438296\n",
      " 23928.10171061   212.22242728]\n",
      "[ 0.99256754  0.10311264  1.30541834  2.29096971 94.47006065  0.83787113]\n",
      "dict:  {'age': 251.4051219591726, 'sex': 26.117159659133847, 'bmi': 330.6463715684966, 'childeren': 580.2743829604731, 'smoker': 212.22242728334118}\n",
      "positive_percentage_impact:  [17.94897701  1.86462509 23.60637713 41.42847797 15.15154281] %\n"
     ]
    },
    {
     "ename": "ValueError",
     "evalue": "All arrays must be of the same length",
     "output_type": "error",
     "traceback": [
      "\u001b[1;31m---------------------------------------------------------------------------\u001b[0m",
      "\u001b[1;31mValueError\u001b[0m                                Traceback (most recent call last)",
      "Cell \u001b[1;32mIn[30], line 58\u001b[0m\n\u001b[0;32m     55\u001b[0m \u001b[38;5;28mprint\u001b[39m(\u001b[38;5;124m\"\u001b[39m\u001b[38;5;124mpositive_percentage_impact: \u001b[39m\u001b[38;5;124m\"\u001b[39m,positive_percentage_impact,\u001b[38;5;124m\"\u001b[39m\u001b[38;5;124m%\u001b[39m\u001b[38;5;124m\"\u001b[39m)\n\u001b[0;32m     57\u001b[0m \u001b[38;5;66;03m# Display the results\u001b[39;00m\n\u001b[1;32m---> 58\u001b[0m impact_df \u001b[38;5;241m=\u001b[39m pd\u001b[38;5;241m.\u001b[39mDataFrame({\n\u001b[0;32m     59\u001b[0m     \u001b[38;5;124m\"\u001b[39m\u001b[38;5;124mFeature\u001b[39m\u001b[38;5;124m\"\u001b[39m: feature_names,\n\u001b[0;32m     60\u001b[0m     \u001b[38;5;124m\"\u001b[39m\u001b[38;5;124mCoefficient\u001b[39m\u001b[38;5;124m\"\u001b[39m: coefficients,\n\u001b[0;32m     61\u001b[0m     \u001b[38;5;124m\"\u001b[39m\u001b[38;5;124mImpact (\u001b[39m\u001b[38;5;124m%\u001b[39m\u001b[38;5;124m)\u001b[39m\u001b[38;5;124m\"\u001b[39m: percentage_impact\n\u001b[0;32m     62\u001b[0m })\u001b[38;5;241m.\u001b[39msort_values(by\u001b[38;5;241m=\u001b[39m\u001b[38;5;124m\"\u001b[39m\u001b[38;5;124mImpact (\u001b[39m\u001b[38;5;124m%\u001b[39m\u001b[38;5;124m)\u001b[39m\u001b[38;5;124m\"\u001b[39m, ascending\u001b[38;5;241m=\u001b[39m\u001b[38;5;28;01mFalse\u001b[39;00m)\n\u001b[0;32m     63\u001b[0m \u001b[38;5;28mprint\u001b[39m(\u001b[38;5;124m\"\u001b[39m\u001b[38;5;130;01m\\n\u001b[39;00m\u001b[38;5;124m Features Impact on Insurance cost:\u001b[39m\u001b[38;5;124m\"\u001b[39m)\n\u001b[0;32m     64\u001b[0m \u001b[38;5;28mprint\u001b[39m(impact_df)\n",
      "File \u001b[1;32mE:\\anac\\Lib\\site-packages\\pandas\\core\\frame.py:664\u001b[0m, in \u001b[0;36mDataFrame.__init__\u001b[1;34m(self, data, index, columns, dtype, copy)\u001b[0m\n\u001b[0;32m    658\u001b[0m     mgr \u001b[38;5;241m=\u001b[39m \u001b[38;5;28mself\u001b[39m\u001b[38;5;241m.\u001b[39m_init_mgr(\n\u001b[0;32m    659\u001b[0m         data, axes\u001b[38;5;241m=\u001b[39m{\u001b[38;5;124m\"\u001b[39m\u001b[38;5;124mindex\u001b[39m\u001b[38;5;124m\"\u001b[39m: index, \u001b[38;5;124m\"\u001b[39m\u001b[38;5;124mcolumns\u001b[39m\u001b[38;5;124m\"\u001b[39m: columns}, dtype\u001b[38;5;241m=\u001b[39mdtype, copy\u001b[38;5;241m=\u001b[39mcopy\n\u001b[0;32m    660\u001b[0m     )\n\u001b[0;32m    662\u001b[0m \u001b[38;5;28;01melif\u001b[39;00m \u001b[38;5;28misinstance\u001b[39m(data, \u001b[38;5;28mdict\u001b[39m):\n\u001b[0;32m    663\u001b[0m     \u001b[38;5;66;03m# GH#38939 de facto copy defaults to False only in non-dict cases\u001b[39;00m\n\u001b[1;32m--> 664\u001b[0m     mgr \u001b[38;5;241m=\u001b[39m dict_to_mgr(data, index, columns, dtype\u001b[38;5;241m=\u001b[39mdtype, copy\u001b[38;5;241m=\u001b[39mcopy, typ\u001b[38;5;241m=\u001b[39mmanager)\n\u001b[0;32m    665\u001b[0m \u001b[38;5;28;01melif\u001b[39;00m \u001b[38;5;28misinstance\u001b[39m(data, ma\u001b[38;5;241m.\u001b[39mMaskedArray):\n\u001b[0;32m    666\u001b[0m     \u001b[38;5;28;01mimport\u001b[39;00m \u001b[38;5;21;01mnumpy\u001b[39;00m\u001b[38;5;21;01m.\u001b[39;00m\u001b[38;5;21;01mma\u001b[39;00m\u001b[38;5;21;01m.\u001b[39;00m\u001b[38;5;21;01mmrecords\u001b[39;00m \u001b[38;5;28;01mas\u001b[39;00m \u001b[38;5;21;01mmrecords\u001b[39;00m\n",
      "File \u001b[1;32mE:\\anac\\Lib\\site-packages\\pandas\\core\\internals\\construction.py:493\u001b[0m, in \u001b[0;36mdict_to_mgr\u001b[1;34m(data, index, columns, dtype, typ, copy)\u001b[0m\n\u001b[0;32m    489\u001b[0m     \u001b[38;5;28;01melse\u001b[39;00m:\n\u001b[0;32m    490\u001b[0m         \u001b[38;5;66;03m# dtype check to exclude e.g. range objects, scalars\u001b[39;00m\n\u001b[0;32m    491\u001b[0m         arrays \u001b[38;5;241m=\u001b[39m [x\u001b[38;5;241m.\u001b[39mcopy() \u001b[38;5;28;01mif\u001b[39;00m \u001b[38;5;28mhasattr\u001b[39m(x, \u001b[38;5;124m\"\u001b[39m\u001b[38;5;124mdtype\u001b[39m\u001b[38;5;124m\"\u001b[39m) \u001b[38;5;28;01melse\u001b[39;00m x \u001b[38;5;28;01mfor\u001b[39;00m x \u001b[38;5;129;01min\u001b[39;00m arrays]\n\u001b[1;32m--> 493\u001b[0m \u001b[38;5;28;01mreturn\u001b[39;00m arrays_to_mgr(arrays, columns, index, dtype\u001b[38;5;241m=\u001b[39mdtype, typ\u001b[38;5;241m=\u001b[39mtyp, consolidate\u001b[38;5;241m=\u001b[39mcopy)\n",
      "File \u001b[1;32mE:\\anac\\Lib\\site-packages\\pandas\\core\\internals\\construction.py:118\u001b[0m, in \u001b[0;36marrays_to_mgr\u001b[1;34m(arrays, columns, index, dtype, verify_integrity, typ, consolidate)\u001b[0m\n\u001b[0;32m    115\u001b[0m \u001b[38;5;28;01mif\u001b[39;00m verify_integrity:\n\u001b[0;32m    116\u001b[0m     \u001b[38;5;66;03m# figure out the index, if necessary\u001b[39;00m\n\u001b[0;32m    117\u001b[0m     \u001b[38;5;28;01mif\u001b[39;00m index \u001b[38;5;129;01mis\u001b[39;00m \u001b[38;5;28;01mNone\u001b[39;00m:\n\u001b[1;32m--> 118\u001b[0m         index \u001b[38;5;241m=\u001b[39m _extract_index(arrays)\n\u001b[0;32m    119\u001b[0m     \u001b[38;5;28;01melse\u001b[39;00m:\n\u001b[0;32m    120\u001b[0m         index \u001b[38;5;241m=\u001b[39m ensure_index(index)\n",
      "File \u001b[1;32mE:\\anac\\Lib\\site-packages\\pandas\\core\\internals\\construction.py:666\u001b[0m, in \u001b[0;36m_extract_index\u001b[1;34m(data)\u001b[0m\n\u001b[0;32m    664\u001b[0m lengths \u001b[38;5;241m=\u001b[39m \u001b[38;5;28mlist\u001b[39m(\u001b[38;5;28mset\u001b[39m(raw_lengths))\n\u001b[0;32m    665\u001b[0m \u001b[38;5;28;01mif\u001b[39;00m \u001b[38;5;28mlen\u001b[39m(lengths) \u001b[38;5;241m>\u001b[39m \u001b[38;5;241m1\u001b[39m:\n\u001b[1;32m--> 666\u001b[0m     \u001b[38;5;28;01mraise\u001b[39;00m \u001b[38;5;167;01mValueError\u001b[39;00m(\u001b[38;5;124m\"\u001b[39m\u001b[38;5;124mAll arrays must be of the same length\u001b[39m\u001b[38;5;124m\"\u001b[39m)\n\u001b[0;32m    668\u001b[0m \u001b[38;5;28;01mif\u001b[39;00m have_dicts:\n\u001b[0;32m    669\u001b[0m     \u001b[38;5;28;01mraise\u001b[39;00m \u001b[38;5;167;01mValueError\u001b[39;00m(\n\u001b[0;32m    670\u001b[0m         \u001b[38;5;124m\"\u001b[39m\u001b[38;5;124mMixing dicts with non-Series may lead to ambiguous ordering.\u001b[39m\u001b[38;5;124m\"\u001b[39m\n\u001b[0;32m    671\u001b[0m     )\n",
      "\u001b[1;31mValueError\u001b[0m: All arrays must be of the same length"
     ]
    }
   ],
   "source": [
    "#function to take input and predict\n",
    "#main\n",
    "import numpy as np\n",
    "data_field = [\"age\",\"sex\",\"bmi\",\"childeren\",\"smoker\",\"region\"]\n",
    "input_data11 = []\n",
    "print(\"Please enter six numerical values:\")\n",
    "for i in data_field:\n",
    "    while True:\n",
    "        try:\n",
    "            value = float(input(f\"Enter value {i} : \"))\n",
    "            input_data11.append(value)\n",
    "            break\n",
    "        except ValueError:\n",
    "            print(\"Invalid input. Please enter a numerical value.\")\n",
    "    \n",
    "numpy_array = np.asarray(input_data11)\n",
    "print(\"Numpyarrayyy :\",numpy_array)\n",
    "    \n",
    "\n",
    "\n",
    "    \n",
    "reshaped_np_array = numpy_array.reshape(1,-1) \n",
    "\n",
    "    \n",
    "import numpy as np\n",
    "# Example usage\n",
    "#if __name__ == \"__main__\":\n",
    "numpy_array11 = reshaped_np_array\n",
    "\n",
    "print(\"Your Reshaped NumPy array:\", numpy_array11)\n",
    "prediction=lr.predict(numpy_array11)\n",
    "print(\"Cost: $\",prediction)\n",
    "\n",
    "\n",
    "\n",
    "feature_names = df.columns\n",
    "coefficients = lr.coef_\n",
    "absolute_coefficients = np.abs(coefficients)  # Take absolute values of coefficients\n",
    "percentage_impact = (absolute_coefficients / np.sum(absolute_coefficients)) * 100  # Normalize to percentages\n",
    "\n",
    "\n",
    "print(coefficients)\n",
    "print(absolute_coefficients)\n",
    "print(np.abs(percentage_impact))\n",
    "only_positive_coefficient = coefficients[coefficients >= 0]\n",
    "\n",
    "\n",
    "data_field_keys = [\"age\",\"sex\",\"bmi\",\"childeren\",\"smoker\",\"region\"]\n",
    "\n",
    "percentage_impact_dict = dict(zip(data_field_keys,only_positive_coefficient))\n",
    "print(\"dict: \", percentage_impact_dict)\n",
    "\n",
    "#percentage_impact_all = (coefficients / np.sum(coefficients)) *100 \n",
    "positive_percentage_impact = (only_positive_coefficient / np.sum(only_positive_coefficient)) *100 \n",
    "print(\"positive_percentage_impact: \",positive_percentage_impact,\"%\")\n",
    "\n",
    "# Display the results\n",
    "impact_df = pd.DataFrame({\n",
    "    \"Feature\": feature_names,\n",
    "    \"Coefficient\": coefficients,\n",
    "    \"Impact (%)\": percentage_impact\n",
    "}).sort_values(by=\"Impact (%)\", ascending=False)\n",
    "print(\"\\n Features Impact on Insurance cost:\")\n",
    "print(impact_df)\n",
    "\n",
    "\n",
    "#df = pd.DataFrame(positive_percentage_impact:, columns=[\"Column1\", \"Column2\", \"Column3\"])"
   ]
  },
  {
   "cell_type": "code",
   "execution_count": 3,
   "id": "79a7bb92-5d7d-4c7f-8fc1-5305f085dc33",
   "metadata": {
    "tags": []
   },
   "outputs": [
    {
     "ename": "AttributeError",
     "evalue": "'list' object has no attribute 'type'",
     "output_type": "error",
     "traceback": [
      "\u001b[1;31m---------------------------------------------------------------------------\u001b[0m",
      "\u001b[1;31mAttributeError\u001b[0m                            Traceback (most recent call last)",
      "Cell \u001b[1;32mIn[3], line 1\u001b[0m\n\u001b[1;32m----> 1\u001b[0m input_data11\u001b[38;5;241m.\u001b[39mtype()\n",
      "\u001b[1;31mAttributeError\u001b[0m: 'list' object has no attribute 'type'"
     ]
    }
   ],
   "source": [
    "input_data11.type()"
   ]
  },
  {
   "cell_type": "code",
   "execution_count": 2,
   "id": "7188986f-ae81-4e50-940e-937574fd29c6",
   "metadata": {},
   "outputs": [
    {
     "name": "stdout",
     "output_type": "stream",
     "text": [
      "Please enter six numerical values:\n"
     ]
    },
    {
     "name": "stdin",
     "output_type": "stream",
     "text": [
      "Enter value age :  45\n",
      "Enter value sex :  1\n",
      "Enter value bmi :  25\n",
      "Enter value childeren :  1\n",
      "Enter value smoker :  1\n",
      "Enter value region :  1\n"
     ]
    },
    {
     "name": "stdout",
     "output_type": "stream",
     "text": [
      "Numpyarrayyy : [45.  1. 25.  1.  1.  1.]\n",
      "Your Reshaped NumPy array: [[45.  1. 25.  1.  1.  1.]]\n"
     ]
    },
    {
     "ename": "NameError",
     "evalue": "name 'lr' is not defined",
     "output_type": "error",
     "traceback": [
      "\u001b[1;31m---------------------------------------------------------------------------\u001b[0m",
      "\u001b[1;31mNameError\u001b[0m                                 Traceback (most recent call last)",
      "Cell \u001b[1;32mIn[2], line 31\u001b[0m\n\u001b[0;32m     28\u001b[0m numpy_array11 \u001b[38;5;241m=\u001b[39m reshaped_np_array\n\u001b[0;32m     30\u001b[0m \u001b[38;5;28mprint\u001b[39m(\u001b[38;5;124m\"\u001b[39m\u001b[38;5;124mYour Reshaped NumPy array:\u001b[39m\u001b[38;5;124m\"\u001b[39m, numpy_array11)\n\u001b[1;32m---> 31\u001b[0m prediction\u001b[38;5;241m=\u001b[39mlr\u001b[38;5;241m.\u001b[39mpredict(numpy_array11)\n\u001b[0;32m     32\u001b[0m \u001b[38;5;28mprint\u001b[39m(\u001b[38;5;124m\"\u001b[39m\u001b[38;5;124mCost: $\u001b[39m\u001b[38;5;124m\"\u001b[39m,prediction)\n\u001b[0;32m     36\u001b[0m feature_names \u001b[38;5;241m=\u001b[39m df\u001b[38;5;241m.\u001b[39mcolumns\n",
      "\u001b[1;31mNameError\u001b[0m: name 'lr' is not defined"
     ]
    }
   ],
   "source": [
    "#function to take input and predict\n",
    "#main\n",
    "import numpy as np\n",
    "data_field = [\"age\",\"sex\",\"bmi\",\"childeren\",\"smoker\",\"region\"]\n",
    "input_data11 = []\n",
    "print(\"Please enter six numerical values:\")\n",
    "for i in data_field:\n",
    "    while True:\n",
    "        try:\n",
    "            value = float(input(f\"Enter value {i} : \"))\n",
    "            input_data11.append(value)\n",
    "            break\n",
    "        except ValueError:\n",
    "            print(\"Invalid input. Please enter a numerical value.\")\n",
    "    \n",
    "numpy_array = np.asarray(input_data11)\n",
    "print(\"Numpyarrayyy :\",numpy_array)\n",
    "    \n",
    "\n",
    "\n",
    "    \n",
    "reshaped_np_array = numpy_array.reshape(1,-1) \n",
    "\n",
    "    \n",
    "import numpy as np\n",
    "# Example usage\n",
    "#if __name__ == \"__main__\":\n",
    "numpy_array11 = reshaped_np_array\n",
    "\n",
    "print(\"Your Reshaped NumPy array:\", numpy_array11)\n",
    "prediction=lr.predict(numpy_array11)\n",
    "print(\"Cost: $\",prediction)\n",
    "\n",
    "\n",
    "\n",
    "feature_names = df.columns\n",
    "coefficients = lr.coef_\n",
    "absolute_coefficients = np.abs(coefficients)  # Take absolute values of coefficients\n",
    "percentage_impact = (absolute_coefficients / np.sum(absolute_coefficients)) * 100  # Normalize to percentages\n",
    "\n",
    "\n",
    "print(coefficients)\n",
    "print(absolute_coefficients)\n",
    "print(np.abs(percentage_impact))\n",
    "only_positive_coefficient = coefficients[coefficients >= 0]\n",
    "\n",
    "\n",
    "data_field_keys = [\"age\",\"sex\",\"bmi\",\"childeren\",\"smoker\",\"region\"]\n",
    "\n",
    "percentage_impact_dict = dict(zip(data_field_keys,only_positive_coefficient))\n",
    "print(\"dict: \", percentage_impact_dict)\n",
    "\n",
    "#percentage_impact_all = (coefficients / np.sum(coefficients)) *100 \n",
    "positive_percentage_impact = (only_positive_coefficient / np.sum(only_positive_coefficient)) *100 \n",
    "print(\"positive_percentage_impact: \",positive_percentage_impact,\"%\")\n",
    "\n",
    "# Display the results\n",
    "impact_df = pd.DataFrame({\n",
    "    \"Feature\": feature_names,\n",
    "    \"Coefficient\": coefficients,\n",
    "    \"Impact (%)\": percentage_impact\n",
    "}).sort_values(by=\"Impact (%)\", ascending=False)\n",
    "print(\"\\n Features Impact on Insurance cost:\")\n",
    "print(impact_df)\n",
    "\n",
    "\n",
    "#df = pd.DataFrame(positive_percentage_impact:, columns=[\"Column1\", \"Column2\", \"Column3\"])"
   ]
  },
  {
   "cell_type": "code",
   "execution_count": 33,
   "id": "ba50c8df-5159-45de-878a-812760f51773",
   "metadata": {},
   "outputs": [
    {
     "data": {
      "image/png": "[encoded data removed]",
      "text/plain": [
       "<Figure size 640x480 with 1 Axes>"
      ]
     },
     "metadata": {},
     "output_type": "display_data"
    }
   ],
   "source": [
    "#new pie chart\n",
    "import matplotlib.pyplot as plt\n",
    "\n",
    "# Data for the pie chart\n",
    "\n",
    "\n",
    "# Add values to the labels\n",
    "\n",
    "#plt.pie(d_values_pie_array, labels=labels, explode = myexplode)\n",
    "\n",
    "import matplotlib.pyplot as plt\n",
    "\n",
    "\n",
    "\n",
    "# Define custom colors\n",
    "colors = plt.cm.Paired.colors[:len(labels)]\n",
    "\n",
    "# Create the pie chart\n",
    "wedges, texts, autotexts = plt.pie(\n",
    "    d_values_pie_array,\n",
    "    labels=None,             # Exclude labels directly from the pie\n",
    "    autopct='%1.1f%%',       # Show percentage on pie chart\n",
    "    startangle=90,           # Rotate for better alignment\n",
    "    colors=colors            # Apply custom colors\n",
    ")\n",
    "\n",
    "# Add legend with labels and values\n",
    "plt.legend(\n",
    "    handles=wedges,                      # Use pie wedges for legend markers\n",
    "    labels=[f\"{label} ({value})\" for label, value in zip(labels, d_values_pie_array)], # Combine label and value\n",
    "    loc=\"center left\",                   # Position legend on the right\n",
    "    bbox_to_anchor=(1, 0, 0.5, 1),       # Adjust legend position\n",
    "    title=\"Legend\"                       # Add a title to the legend\n",
    ")\n",
    "\n",
    "# Add a title\n",
    "plt.title(\"Pie Chart with Legend\")\n",
    "\n",
    "# Show the plot\n",
    "plt.show()\n"
   ]
  },
  {
   "cell_type": "code",
   "execution_count": 34,
   "id": "f8e2cf46-efd9-4fe3-989d-270aafb06acb",
   "metadata": {
    "tags": []
   },
   "outputs": [
    {
     "name": "stdout",
     "output_type": "stream",
     "text": [
      "sum of positive coef percentage:  dict_values([17.948977005787796, 1.8646250900743775, 23.606377125816476, 41.428477970694054, 15.15154280762729])\n",
      "cost factor {'age': array([882.11156369]), 'sex': array([91.63794423]), 'bmi': array([1160.1473573]), 'childeren': array([2036.02352782]), 'region': array([744.6302435])}\n",
      "grand total [4914.55063654]\n",
      "['age', 'sex', 'bmi', 'childeren', 'region']\n",
      "[ 882.11156369   91.63794423 1160.1473573  2036.02352782  744.6302435 ]\n",
      "labels type <class 'list'>\n",
      "d_values_pie type <class 'numpy.ndarray'>\n"
     ]
    },
    {
     "data": {
      "image/png": "[encoded data removed]",
      "text/plain": [
       "<Figure size 640x480 with 1 Axes>"
      ]
     },
     "metadata": {},
     "output_type": "display_data"
    }
   ],
   "source": [
    "import matplotlib.pyplot as plt\n",
    "import numpy as np\n",
    "\n",
    "# Sample Data\n",
    "\n",
    "#rough\n",
    "data_field_keys = [\"age\",\"sex\",\"bmi\",\"childeren\",\"smoker\",\"region\"]\n",
    "percentage_impact_all = (coefficients / np.sum(coefficients)) *100 \n",
    "coef_dict = dict(zip(data_field_keys, coefficients))\n",
    "\n",
    "if input_data11[4] == 0:\n",
    "    coef_dict['smoker'] = abs(coef_dict['smoker'])\n",
    "\n",
    "positive_coef_dict = {key: value for key, value in coef_dict.items() if value >= 0}\n",
    "total_positive_coef = sum(positive_coef_dict.values())\n",
    "positive_coef_percentage_dict =  {key: (value / total_positive_coef) * 100 for key, value in positive_coef_dict.items()}\n",
    "print( \"sum of positive coef percentage: \", np.sum(positive_coef_percentage_dict.values()))\n",
    "Cost_factor =  {key: (value)/100 * prediction for key, value in positive_coef_percentage_dict.items()}\n",
    "print(\"cost factor\",Cost_factor)\n",
    "print(\"grand total\",prediction)\n",
    "\n",
    "#visulation pie chart\n",
    "\n",
    "labels=list(Cost_factor.keys())\n",
    "\n",
    "values_pie= list(Cost_factor.values())\n",
    "d_values_pie = np.concatenate(values_pie)\n",
    "\n",
    "print(labels)\n",
    "print(d_values_pie)\n",
    "print(\"labels type\",type(labels))\n",
    "print(\"d_values_pie type\",type(d_values_pie))\n",
    "d_values_pie_array = d_values_pie.tolist()\n",
    "d_values_pie_array = [round(num, 2) for num in d_values_pie_array]\n",
    "# Create the pie chart\n",
    "#plt.figure(figsize=(8, 8))  # Optional: Adjust figure size\n",
    "if len(Cost_factor) ==5:\n",
    "    myexplode = [0, 0, 0, 0, 0 ]\n",
    "   \n",
    "    # Define custom colors\n",
    "    colors = plt.cm.Paired.colors[:len(labels)]\n",
    "\n",
    "    # Create the pie chart\n",
    "    wedges, texts, autotexts = plt.pie(\n",
    "        d_values_pie_array,\n",
    "        labels=None,             # Exclude labels directly from the pie\n",
    "        autopct='%1.1f%%',       # Show percentage on pie chart\n",
    "        startangle=90,           # Rotate for better alignment\n",
    "        colors=colors            # Apply custom colors\n",
    "    )\n",
    "\n",
    "    # Add legend with labels and values\n",
    "    plt.legend(\n",
    "        handles=wedges,                      # Use pie wedges for legend markers\n",
    "        labels=[f\"{label} ({value})\" for label, value in zip(labels, d_values_pie_array)], # Combine label and value\n",
    "        loc=\"center left\",                   # Position legend on the right\n",
    "        bbox_to_anchor=(1, 0, 0.5, 1),       # Adjust legend position\n",
    "        title=\"Legend\"                       # Add a title to the legend\n",
    "    )\n",
    "\n",
    "    # Add a title\n",
    "    plt.title(\"Pie Chart with Legend\")\n",
    "\n",
    "    # Show the plot\n",
    "    plt.show()\n",
    "\n",
    "else:\n",
    "    myexplode = [0 , 0 , 0 , 0 , 0 , 0]\n",
    "    #--------------------------------------------------------------------------------------------------------------------------------\n",
    "    # Define custom colors\n",
    "    colors = plt.cm.Paired.colors[:len(labels)]\n",
    "\n",
    "    # Create the pie chart\n",
    "    wedges, texts = plt.pie(\n",
    "        d_values_pie_array,\n",
    "        labels=None,            # Exclude labels from the pie\n",
    "        startangle=90,          # Rotate chart for better alignment\n",
    "        colors=colors           # Apply custom colors\n",
    "    )\n",
    "\n",
    "    # Add percentages outside the slices with arrows\n",
    "    for wedge, value in zip(wedges, d_values_pie_array):\n",
    "        # Calculate the angle of the slice\n",
    "        angle = (wedge.theta2 - wedge.theta1) / 2.0 + wedge.theta1\n",
    "        x = np.cos(np.radians(angle))  # X-coordinate\n",
    "        y = np.sin(np.radians(angle))  # Y-coordinate\n",
    "\n",
    "        # Percentage to display\n",
    "        percentage = f\"{value / sum(d_values_pie_array) * 100:.1f}%\"\n",
    "\n",
    "        # Place percentage with an arrow\n",
    "        plt.annotate(\n",
    "            percentage,\n",
    "            xy=(x, y),                           # Position near slice\n",
    "\n",
    "            #if len(Cost_factor) ==5:\n",
    "            xytext=(5.2 * x, 1.2 * y),           # Slightly outside the pie\n",
    "            arrowprops=dict(arrowstyle=\"-\", lw=1),  # Draw arrow\n",
    "            ha='center',\n",
    "            fontsize=8\n",
    "        )\n",
    "\n",
    "    # Add legend with labels and values\n",
    "    plt.legend(\n",
    "        handles=wedges,                      # Use pie wedges for legend markers\n",
    "        labels=[f\"{label} (Rs. {value})\" for label, value in zip(labels, d_values_pie_array)],  # Add Rs prefix to values\n",
    "\n",
    "        #labels=[f\"{label} ({value})\" for label, value in zip(labels, d_values_pie_array)],  # Combine label and value\n",
    "        loc=\"center left\",                   # Position legend on the right\n",
    "        bbox_to_anchor=(1, 0, 0.5, 1),       # Adjust legend position\n",
    "        title=\"Legend\"                       # Add a title to the legend\n",
    "    )\n",
    "\n",
    "    # Add a title\n",
    "    plt.title(\"Pie Chart with Percentages Outside\")\n",
    "\n",
    "    # Show the plot\n",
    "    plt.show()\n",
    "\n"
   ]
  },
  {
   "cell_type": "code",
   "execution_count": 35,
   "id": "76abce5a-be74-48bd-b186-2bf75b518b67",
   "metadata": {},
   "outputs": [
    {
     "ename": "NameError",
     "evalue": "name 'm' is not defined",
     "output_type": "error",
     "traceback": [
      "\u001b[1;31m---------------------------------------------------------------------------\u001b[0m",
      "\u001b[1;31mNameError\u001b[0m                                 Traceback (most recent call last)",
      "Cell \u001b[1;32mIn[35], line 2\u001b[0m\n\u001b[0;32m      1\u001b[0m \u001b[38;5;28;01mfrom\u001b[39;00m \u001b[38;5;21;01msklearn\u001b[39;00m\u001b[38;5;21;01m.\u001b[39;00m\u001b[38;5;21;01mmetrics\u001b[39;00m \u001b[38;5;28;01mimport\u001b[39;00m mean_squared_error\n\u001b[1;32m----> 2\u001b[0m mse \u001b[38;5;241m=\u001b[39m mean_squared_error(Y_test, m)\n\u001b[0;32m      3\u001b[0m \u001b[38;5;28mprint\u001b[39m(\u001b[38;5;124mf\u001b[39m\u001b[38;5;124m\"\u001b[39m\u001b[38;5;124mMSE: \u001b[39m\u001b[38;5;132;01m{\u001b[39;00mmse\u001b[38;5;132;01m}\u001b[39;00m\u001b[38;5;124m\"\u001b[39m)\n",
      "\u001b[1;31mNameError\u001b[0m: name 'm' is not defined"
     ]
    }
   ],
   "source": [
    "from sklearn.metrics import mean_squared_error\n",
    "mse = mean_squared_error(Y_test, m)\n",
    "print(f\"MSE: {mse}\")\n"
   ]
  },
  {
   "cell_type": "code",
   "execution_count": null,
   "id": "7fa6a054-f605-4fa9-9b63-30ee32402c14",
   "metadata": {},
   "outputs": [],
   "source": []
  }
 ],
 "metadata": {
  "kernelspec": {
   "display_name": "Python 3 (ipykernel)",
   "language": "python",
   "name": "python3"
  },
  "language_info": {
   "codemirror_mode": {
    "name": "ipython",
    "version": 3
   },
   "file_extension": ".py",
   "mimetype": "text/x-python",
   "name": "python",
   "nbconvert_exporter": "python",
   "pygments_lexer": "ipython3",
   "version": "3.11.3"
  }
 },
 "nbformat": 4,
 "nbformat_minor": 5
}
