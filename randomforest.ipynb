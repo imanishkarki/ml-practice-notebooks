{
 "cells": [
  {
   "cell_type": "code",
   "execution_count": 2,
   "id": "fb04314a-7a01-4ccd-b926-80376557bf95",
   "metadata": {
    "tags": []
   },
   "outputs": [],
   "source": [
    "import numpy as np\n",
    "import pandas as pd\n",
    "from sklearn.model_selection import train_test_split\n",
    "from sklearn.linear_model import LinearRegression\n",
    "from sklearn import metrics\n",
    "import matplotlib.pyplot as plt\n",
    "import seaborn as sns"
   ]
  },
  {
   "cell_type": "code",
   "execution_count": 3,
   "id": "5afefc45-b26f-4bf4-ae04-6cf9e8e198d1",
   "metadata": {
    "tags": []
   },
   "outputs": [],
   "source": [
    "data = pd.read_csv('Medical_insurance.csv')"
   ]
  },
  {
   "cell_type": "code",
   "execution_count": 4,
   "id": "c9395598-abea-4811-929e-edf77c5bf226",
   "metadata": {
    "tags": []
   },
   "outputs": [
    {
     "data": {
      "text/html": [
       "<div>\n",
       "<style scoped>\n",
       "    .dataframe tbody tr th:only-of-type {\n",
       "        vertical-align: middle;\n",
       "    }\n",
       "\n",
       "    .dataframe tbody tr th {\n",
       "        vertical-align: top;\n",
       "    }\n",
       "\n",
       "    .dataframe thead th {\n",
       "        text-align: right;\n",
       "    }\n",
       "</style>\n",
       "<table border=\"1\" class=\"dataframe\">\n",
       "  <thead>\n",
       "    <tr style=\"text-align: right;\">\n",
       "      <th></th>\n",
       "      <th>age</th>\n",
       "      <th>sex</th>\n",
       "      <th>bmi</th>\n",
       "      <th>children</th>\n",
       "      <th>smoker</th>\n",
       "      <th>region</th>\n",
       "      <th>charges</th>\n",
       "    </tr>\n",
       "  </thead>\n",
       "  <tbody>\n",
       "    <tr>\n",
       "      <th>0</th>\n",
       "      <td>19</td>\n",
       "      <td>female</td>\n",
       "      <td>27.900</td>\n",
       "      <td>0</td>\n",
       "      <td>yes</td>\n",
       "      <td>southwest</td>\n",
       "      <td>16884.92400</td>\n",
       "    </tr>\n",
       "    <tr>\n",
       "      <th>1</th>\n",
       "      <td>18</td>\n",
       "      <td>male</td>\n",
       "      <td>33.770</td>\n",
       "      <td>1</td>\n",
       "      <td>no</td>\n",
       "      <td>southeast</td>\n",
       "      <td>1725.55230</td>\n",
       "    </tr>\n",
       "    <tr>\n",
       "      <th>2</th>\n",
       "      <td>28</td>\n",
       "      <td>male</td>\n",
       "      <td>33.000</td>\n",
       "      <td>3</td>\n",
       "      <td>no</td>\n",
       "      <td>southeast</td>\n",
       "      <td>4449.46200</td>\n",
       "    </tr>\n",
       "    <tr>\n",
       "      <th>3</th>\n",
       "      <td>33</td>\n",
       "      <td>male</td>\n",
       "      <td>22.705</td>\n",
       "      <td>0</td>\n",
       "      <td>no</td>\n",
       "      <td>northwest</td>\n",
       "      <td>21984.47061</td>\n",
       "    </tr>\n",
       "    <tr>\n",
       "      <th>4</th>\n",
       "      <td>32</td>\n",
       "      <td>male</td>\n",
       "      <td>28.880</td>\n",
       "      <td>0</td>\n",
       "      <td>no</td>\n",
       "      <td>northwest</td>\n",
       "      <td>3866.85520</td>\n",
       "    </tr>\n",
       "    <tr>\n",
       "      <th>5</th>\n",
       "      <td>31</td>\n",
       "      <td>female</td>\n",
       "      <td>25.740</td>\n",
       "      <td>0</td>\n",
       "      <td>no</td>\n",
       "      <td>southeast</td>\n",
       "      <td>3756.62160</td>\n",
       "    </tr>\n",
       "    <tr>\n",
       "      <th>6</th>\n",
       "      <td>46</td>\n",
       "      <td>female</td>\n",
       "      <td>33.440</td>\n",
       "      <td>1</td>\n",
       "      <td>no</td>\n",
       "      <td>southeast</td>\n",
       "      <td>8240.58960</td>\n",
       "    </tr>\n",
       "    <tr>\n",
       "      <th>7</th>\n",
       "      <td>37</td>\n",
       "      <td>female</td>\n",
       "      <td>27.740</td>\n",
       "      <td>3</td>\n",
       "      <td>no</td>\n",
       "      <td>northwest</td>\n",
       "      <td>7281.50560</td>\n",
       "    </tr>\n",
       "    <tr>\n",
       "      <th>8</th>\n",
       "      <td>37</td>\n",
       "      <td>male</td>\n",
       "      <td>29.830</td>\n",
       "      <td>2</td>\n",
       "      <td>no</td>\n",
       "      <td>northeast</td>\n",
       "      <td>6406.41070</td>\n",
       "    </tr>\n",
       "    <tr>\n",
       "      <th>9</th>\n",
       "      <td>60</td>\n",
       "      <td>female</td>\n",
       "      <td>25.840</td>\n",
       "      <td>0</td>\n",
       "      <td>no</td>\n",
       "      <td>northwest</td>\n",
       "      <td>28923.13692</td>\n",
       "    </tr>\n",
       "  </tbody>\n",
       "</table>\n",
       "</div>"
      ],
      "text/plain": [
       "   age     sex     bmi  children smoker     region      charges\n",
       "0   19  female  27.900         0    yes  southwest  16884.92400\n",
       "1   18    male  33.770         1     no  southeast   1725.55230\n",
       "2   28    male  33.000         3     no  southeast   4449.46200\n",
       "3   33    male  22.705         0     no  northwest  21984.47061\n",
       "4   32    male  28.880         0     no  northwest   3866.85520\n",
       "5   31  female  25.740         0     no  southeast   3756.62160\n",
       "6   46  female  33.440         1     no  southeast   8240.58960\n",
       "7   37  female  27.740         3     no  northwest   7281.50560\n",
       "8   37    male  29.830         2     no  northeast   6406.41070\n",
       "9   60  female  25.840         0     no  northwest  28923.13692"
      ]
     },
     "execution_count": 4,
     "metadata": {},
     "output_type": "execute_result"
    }
   ],
   "source": [
    "data.head(10)"
   ]
  },
  {
   "cell_type": "code",
   "execution_count": 5,
   "id": "abce6fd1-d453-4b6f-816c-e7941554b2d4",
   "metadata": {
    "tags": []
   },
   "outputs": [
    {
     "data": {
      "text/plain": [
       "northeast    658\n",
       "northwest    664\n",
       "southwest    684\n",
       "southeast    766\n",
       "Name: region, dtype: int64"
      ]
     },
     "execution_count": 5,
     "metadata": {},
     "output_type": "execute_result"
    }
   ],
   "source": [
    "data['region'].value_counts().sort_values()"
   ]
  },
  {
   "cell_type": "code",
   "execution_count": 6,
   "id": "b3d847c1-b2f3-47cc-92ee-800dcc9fdddf",
   "metadata": {
    "tags": []
   },
   "outputs": [],
   "source": [
    "#Encoding the categorical features\n",
    "clean_data = {'sex': {'male' : 0 , 'female' : 1} ,\n",
    "                 'smoker': {'no': 0 , 'yes' : 1},\n",
    "                   'region' : {'northwest':0, 'northeast':1,'southeast':2,'southwest':3}\n",
    "               }\n",
    "data_copy = data.copy()\n",
    "data_copy.replace(clean_data, inplace=True)\n"
   ]
  },
  {
   "cell_type": "code",
   "execution_count": 7,
   "id": "18a6c3f8-2c0a-4cad-81dd-0e999103e996",
   "metadata": {},
   "outputs": [
    {
     "name": "stdout",
     "output_type": "stream",
     "text": [
      "female    1366\n",
      "male      1406\n",
      "Name: sex, dtype: int64\n",
      "northeast    658\n",
      "northwest    664\n",
      "southwest    684\n",
      "southeast    766\n",
      "Name: region, dtype: int64\n",
      "5      42\n",
      "4      52\n",
      "3     324\n",
      "2     496\n",
      "1     672\n",
      "0    1186\n",
      "Name: children, dtype: int64\n"
     ]
    }
   ],
   "source": [
    "print(data['sex'].value_counts().sort_values())\n",
    "print(data['region'].value_counts().sort_values())\n",
    "print(data['children'].value_counts().sort_values())"
   ]
  },
  {
   "cell_type": "code",
   "execution_count": 26,
   "id": "753688e0-9934-4700-89c3-51627bf19cc0",
   "metadata": {
    "tags": []
   },
   "outputs": [],
   "source": [
    "#splitting train test split\n",
    "X= data_copy.drop(columns='charges', axis=1)\n",
    "Y=data_copy['charges']"
   ]
  },
  {
   "cell_type": "code",
   "execution_count": 31,
   "id": "5e9dee42-c9d8-468f-96cb-b5cdf6dba904",
   "metadata": {
    "tags": []
   },
   "outputs": [
    {
     "name": "stdout",
     "output_type": "stream",
     "text": [
      "Run 1: R² Score (Custom MyLR) = 0.7421\n",
      "Run 2: R² Score (Custom MyLR) = 0.7509\n",
      "Run 3: R² Score (Custom MyLR) = 0.7509\n",
      "Run 4: R² Score (Custom MyLR) = 0.7347\n",
      "Run 5: R² Score (Custom MyLR) = 0.7616\n",
      "Run 6: R² Score (Custom MyLR) = 0.7497\n",
      "Run 7: R² Score (Custom MyLR) = 0.7632\n",
      "Run 8: R² Score (Custom MyLR) = 0.7071\n",
      "Run 9: R² Score (Custom MyLR) = 0.7812\n",
      "Run 10: R² Score (Custom MyLR) = 0.7215\n",
      "\n",
      "Average R² Score for MyLR over 10 runs: 0.7463\n",
      "\n",
      "Applying Grid Search CV on Ridge Regression...\n",
      "Best alpha (Grid Search): {'alpha': 1}\n",
      "Best R² score (Grid Search): 0.7480\n",
      "\n",
      "Applying Randomized Search CV on Ridge Regression...\n",
      "Best alpha (Randomized Search): {'alpha': 5.818361216819946}\n",
      "Best R² score (Randomized Search): 0.7479\n"
     ]
    }
   ],
   "source": [
    "import numpy as np\n",
    "import pandas as pd\n",
    "from sklearn.model_selection import train_test_split, GridSearchCV, RandomizedSearchCV\n",
    "from sklearn.linear_model import Ridge\n",
    "from sklearn.metrics import r2_score\n",
    "from scipy.stats import uniform\n",
    "\n",
    "\n",
    "# Custom Linear Regression Class\n",
    "class MyLR:\n",
    "    def __init__(self):\n",
    "        self.coef_ = None\n",
    "        self.intercept_ = None\n",
    "\n",
    "    def fit(self, X_train, Y_train):\n",
    "        if not isinstance(X_train, np.ndarray):\n",
    "            X_train = X_train.to_numpy()\n",
    "        if not isinstance(Y_train, np.ndarray):\n",
    "            Y_train = Y_train.to_numpy()\n",
    "        X_train = np.insert(X_train, 0, 1, axis=1)  # Add bias term\n",
    "        betas = np.linalg.inv(np.dot(X_train.T, X_train)).dot(X_train.T).dot(Y_train)\n",
    "        self.intercept_ = betas[0]\n",
    "        self.coef_ = betas[1:]\n",
    "\n",
    "    def predict(self, X_test):\n",
    "        if not isinstance(X_test, np.ndarray):\n",
    "            X_test = X_test.to_numpy()\n",
    "        y_pred = np.dot(X_test, self.coef_) + self.intercept_\n",
    "        return y_pred\n",
    "\n",
    "# Perform 10 different random train-test splits and evaluate R² score\n",
    "r2_scores = []\n",
    "\n",
    "for i in range(10):\n",
    "    X_train, X_test, Y_train, Y_test = train_test_split(X, Y, test_size=0.2, random_state=np.random.randint(1, 1000))\n",
    "\n",
    "    model = MyLR()\n",
    "    model.fit(X_train, Y_train)\n",
    "    Y_test_pred = model.predict(X_test)\n",
    "\n",
    "    r2 = r2_score(Y_test, Y_test_pred)\n",
    "    r2_scores.append(r2)\n",
    "    print(f\"Run {i+1}: R² Score (Custom MyLR) = {r2:.4f}\")\n",
    "\n",
    "# Print Average R² Score for MyLR\n",
    "print(f\"\\nAverage R² Score for MyLR over 10 runs: {np.mean(r2_scores):.4f}\")\n",
    "\n",
    "# -------------------- Apply Grid Search CV --------------------\n",
    "print(\"\\nApplying Grid Search CV on Ridge Regression...\")\n",
    "\n",
    "param_grid = {\"alpha\": [0.01, 0.1, 1, 10, 100]}\n",
    "ridge = Ridge()\n",
    "\n",
    "grid_search = GridSearchCV(ridge, param_grid, cv=10, scoring=\"r2\", n_jobs=-1)\n",
    "grid_search.fit(X, Y)\n",
    "\n",
    "print(f\"Best alpha (Grid Search): {grid_search.best_params_}\")\n",
    "print(f\"Best R² score (Grid Search): {grid_search.best_score_:.4f}\")\n",
    "\n",
    "# -------------------- Apply Randomized Search CV --------------------\n",
    "print(\"\\nApplying Randomized Search CV on Ridge Regression...\")\n",
    "\n",
    "param_dist = {\"alpha\": uniform(0.01, 100)}\n",
    "random_search = RandomizedSearchCV(Ridge(), param_distributions=param_dist, \n",
    "                                   n_iter=10, cv=10, scoring=\"r2\", random_state=42, n_jobs=-1)\n",
    "random_search.fit(X, Y)\n",
    "\n",
    "print(f\"Best alpha (Randomized Search): {random_search.best_params_}\")\n",
    "print(f\"Best R² score (Randomized Search): {random_search.best_score_:.4f}\")\n"
   ]
  },
  {
   "cell_type": "code",
   "execution_count": 10,
   "id": "87418674-9164-4c12-8ae3-566e6589bc5d",
   "metadata": {
    "tags": []
   },
   "outputs": [],
   "source": [
    "import numpy as np\n",
    "\n",
    "class MyLR:\n",
    "    def __init__(self):\n",
    "        self.coef_ = None \n",
    "        self.intercept_ = None\n",
    "    def fit(self, X_train, Y_train):\n",
    "        if not isinstance(X_train, np.ndarray):\n",
    "            X_train = X_train.to_numpy()\n",
    "        if not isinstance(Y_train, np.ndarray):\n",
    "            Y_train = Y_train.to_numpy()\n",
    "        X_train = np.insert(X_train, 0, 1, axis=1)\n",
    "        betas = np.linalg.inv(np.dot(X_train.T,X_train)).dot(X_train.T).dot(Y_train)\n",
    "        self.intercept_ = betas[0]\n",
    "        self.coef_ = betas[1:]\n",
    "    def predict(self, X_test):\n",
    "        if not isinstance(X_test, np.ndarray):\n",
    "            X_test = X_test.to_numpy()\n",
    "        y_pred = np.dot(X_test, self.coef_) + self.intercept_\n",
    "        return y_pred"
   ]
  },
  {
   "cell_type": "code",
   "execution_count": 23,
   "id": "9e57af03-0b8b-48b9-93b5-d54b72bb2ccf",
   "metadata": {
    "tags": []
   },
   "outputs": [],
   "source": [
    "ml = LinearRegression()"
   ]
  },
  {
   "cell_type": "code",
   "execution_count": 30,
   "id": "664cd632-b246-4e1d-a578-845e747abfd2",
   "metadata": {
    "tags": []
   },
   "outputs": [
    {
     "name": "stdout",
     "output_type": "stream",
     "text": [
      "Please enter six numerical values:\n"
     ]
    },
    {
     "name": "stdin",
     "output_type": "stream",
     "text": [
      "Enter value age :  19\n",
      "Enter value sex :  1\n",
      "Enter value bmi :  27.9\n",
      "Enter value childeren :  0\n",
      "Enter value smoker :  1\n",
      "Enter value region :  3\n"
     ]
    },
    {
     "name": "stdout",
     "output_type": "stream",
     "text": [
      "Numpyarrayyy : [19.   1.  27.9  0.   1.   3. ]\n",
      "Your Reshaped NumPy array: [[19.   1.  27.9  0.   1.   3. ]]\n",
      "Cost: $ [24665.13935455]\n"
     ]
    }
   ],
   "source": [
    "#function to take input and predict\n",
    "#main\n",
    "import numpy as np\n",
    "data_field = [\"age\",\"sex\",\"bmi\",\"childeren\",\"smoker\",\"region\"]\n",
    "input_data11 = []\n",
    "print(\"Please enter six numerical values:\")\n",
    "for i in data_field:\n",
    "    while True:\n",
    "        try:\n",
    "            value = float(input(f\"Enter value {i} : \"))\n",
    "            input_data11.append(value)\n",
    "            break\n",
    "        except ValueError:\n",
    "            print(\"Invalid input. Please enter a numerical value.\")\n",
    "    \n",
    "numpy_array = np.asarray(input_data11)\n",
    "print(\"Numpyarrayyy :\",numpy_array)\n",
    "    \n",
    "\n",
    "\n",
    "    \n",
    "reshaped_np_array = numpy_array.reshape(1,-1) \n",
    "\n",
    "    \n",
    "import numpy as np\n",
    "# Example usage\n",
    "#if __name__ == \"__main__\":\n",
    "X_test = reshaped_np_array\n",
    "\n",
    "print(\"Your Reshaped NumPy array:\", X_test)\n",
    "prediction=model.predict(X_test)\n",
    "print(\"Cost: $\",prediction)\n",
    "\n"
   ]
  },
  {
   "cell_type": "code",
   "execution_count": null,
   "id": "51fb0244-5fc5-4b19-ad4c-4578d378b92e",
   "metadata": {},
   "outputs": [],
   "source": []
  }
 ],
 "metadata": {
  "kernelspec": {
   "display_name": "Python 3 (ipykernel)",
   "language": "python",
   "name": "python3"
  },
  "language_info": {
   "codemirror_mode": {
    "name": "ipython",
    "version": 3
   },
   "file_extension": ".py",
   "mimetype": "text/x-python",
   "name": "python",
   "nbconvert_exporter": "python",
   "pygments_lexer": "ipython3",
   "version": "3.11.3"
  }
 },
 "nbformat": 4,
 "nbformat_minor": 5
}
