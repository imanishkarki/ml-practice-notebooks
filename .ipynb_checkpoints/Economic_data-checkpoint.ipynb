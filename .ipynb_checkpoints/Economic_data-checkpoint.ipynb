{
 "cells": [
  {
   "cell_type": "markdown",
   "id": "9ca2f7c7-1c28-4e5f-b501-245d62408840",
   "metadata": {
    "tags": []
   },
   "source": [
    "### Economic Data Analysis with Fred & Pandas"
   ]
  },
  {
   "cell_type": "code",
   "execution_count": 12,
   "id": "6a26654a-5fa2-47f4-9283-71b95cc8e55d",
   "metadata": {
    "tags": []
   },
   "outputs": [
    {
     "name": "stdout",
     "output_type": "stream",
     "text": [
      "Requirement already satisfied: fredapi in e:\\mkkk\\anaconda\\lib\\site-packages (0.5.1)\n",
      "Requirement already satisfied: pandas in e:\\mkkk\\anaconda\\lib\\site-packages (from fredapi) (1.5.3)\n",
      "Requirement already satisfied: python-dateutil>=2.8.1 in e:\\mkkk\\anaconda\\lib\\site-packages (from pandas->fredapi) (2.8.2)\n",
      "Requirement already satisfied: pytz>=2020.1 in e:\\mkkk\\anaconda\\lib\\site-packages (from pandas->fredapi) (2022.7)\n",
      "Requirement already satisfied: numpy>=1.21.0 in e:\\mkkk\\anaconda\\lib\\site-packages (from pandas->fredapi) (1.24.3)\n",
      "Requirement already satisfied: six>=1.5 in e:\\mkkk\\anaconda\\lib\\site-packages (from python-dateutil>=2.8.1->pandas->fredapi) (1.16.0)\n"
     ]
    }
   ],
   "source": [
    "!pip install fredapi"
   ]
  },
  {
   "cell_type": "code",
   "execution_count": 8,
   "id": "e1f3cd79-a7cb-445b-ac72-68e9f113e40c",
   "metadata": {
    "tags": []
   },
   "outputs": [],
   "source": [
    "import pandas as pd\n",
    "import numpy as np\n",
    "import matplotlib.pyplot as plt\n",
    "import plotly as px\n",
    "\n",
    "plt.style.use('fivethirtyeight')\n",
    "pd.set_option('max_columns',500)\n",
    "color_pal = plt.rcParmas[\"axes.prop_cycle\"].by_key()[\"color\"]\n",
    "from fredapi import Fred\n",
    "# api key fred = f07e67ec464627c7601353c68930c321\n",
    "\n"
   ]
  },
  {
   "cell_type": "code",
   "execution_count": null,
   "id": "68cb9daf-1354-4f2b-82db-16c7e8773b61",
   "metadata": {},
   "outputs": [],
   "source": []
  }
 ],
 "metadata": {
  "kernelspec": {
   "display_name": "Python 3 (ipykernel)",
   "language": "python",
   "name": "python3"
  },
  "language_info": {
   "codemirror_mode": {
    "name": "ipython",
    "version": 3
   },
   "file_extension": ".py",
   "mimetype": "text/x-python",
   "name": "python",
   "nbconvert_exporter": "python",
   "pygments_lexer": "ipython3",
   "version": "3.11.3"
  }
 },
 "nbformat": 4,
 "nbformat_minor": 5
}
